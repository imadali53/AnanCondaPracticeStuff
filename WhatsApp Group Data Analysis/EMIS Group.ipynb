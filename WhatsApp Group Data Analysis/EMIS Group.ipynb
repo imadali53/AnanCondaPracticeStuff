{
 "cells": [
  {
   "cell_type": "code",
   "execution_count": 2,
   "id": "aaaa94ae",
   "metadata": {},
   "outputs": [],
   "source": [
    "import re\n",
    "import pandas as pd\n",
    "import numpy as np\n",
    "import matplotlib.pyplot as plt\n",
    "import seaborn as sns\n",
    "import datetime as dt\n",
    "from matplotlib.ticker import MaxNLocator"
   ]
  },
  {
   "cell_type": "code",
   "execution_count": 3,
   "id": "e3ba3a6a",
   "metadata": {},
   "outputs": [
    {
     "ename": "ModuleNotFoundError",
     "evalue": "No module named 'emoji'",
     "output_type": "error",
     "traceback": [
      "\u001b[1;31m---------------------------------------------------------------------------\u001b[0m",
      "\u001b[1;31mModuleNotFoundError\u001b[0m                       Traceback (most recent call last)",
      "Input \u001b[1;32mIn [3]\u001b[0m, in \u001b[0;36m<cell line: 2>\u001b[1;34m()\u001b[0m\n\u001b[0;32m      1\u001b[0m \u001b[38;5;28;01mimport\u001b[39;00m \u001b[38;5;21;01mregex\u001b[39;00m\n\u001b[1;32m----> 2\u001b[0m \u001b[38;5;28;01mimport\u001b[39;00m \u001b[38;5;21;01memoji\u001b[39;00m\n",
      "\u001b[1;31mModuleNotFoundError\u001b[0m: No module named 'emoji'"
     ]
    }
   ],
   "source": [
    "import regex\n",
    "import emoji"
   ]
  },
  {
   "cell_type": "code",
   "execution_count": 4,
   "id": "b045bf4a",
   "metadata": {},
   "outputs": [
    {
     "name": "stdout",
     "output_type": "stream",
     "text": [
      "Collecting emoji\n",
      "  Downloading emoji-2.0.0.tar.gz (197 kB)Note: you may need to restart the kernel to use updated packages.\n",
      "\n",
      "Building wheels for collected packages: emoji\n",
      "  Building wheel for emoji (setup.py): started\n",
      "  Building wheel for emoji (setup.py): finished with status 'done'\n",
      "  Created wheel for emoji: filename=emoji-2.0.0-py3-none-any.whl size=193022 sha256=7c5d380de8b458b50d7cc491d39de01f529b6ff8114164266b0b041f431e7c3e\n",
      "  Stored in directory: c:\\users\\maaz ali\\appdata\\local\\pip\\cache\\wheels\\0e\\d1\\c5\\63b511b700c9da5a62bbfc758dd4a3fd9541df51b5db0694b0\n",
      "Successfully built emoji\n",
      "Installing collected packages: emoji\n",
      "Successfully installed emoji-2.0.0\n"
     ]
    }
   ],
   "source": [
    "pip install emoji"
   ]
  },
  {
   "cell_type": "code",
   "execution_count": 5,
   "id": "8fb07e14",
   "metadata": {},
   "outputs": [],
   "source": [
    "import regex\n",
    "import emoji"
   ]
  },
  {
   "cell_type": "code",
   "execution_count": 6,
   "id": "ecb673ec",
   "metadata": {},
   "outputs": [],
   "source": [
    "from seaborn import *\n"
   ]
  },
  {
   "cell_type": "code",
   "execution_count": 8,
   "id": "7fb783fa",
   "metadata": {},
   "outputs": [
    {
     "name": "stdout",
     "output_type": "stream",
     "text": [
      "Collecting heatmap\n",
      "  Downloading heatmap-2.2.1.zip (25 kB)\n",
      "  Downloading heatmap-2.2.1.tar.gz (23 kB)\n",
      "  Downloading heatmap-2.2.zip (25 kB)\n",
      "  Downloading heatmap-2.2.tar.gz (23 kB)\n",
      "Note: you may need to restart the kernel to use updated packages.\n"
     ]
    },
    {
     "name": "stderr",
     "output_type": "stream",
     "text": [
      "    ERROR: Command errored out with exit status 1:\n",
      "     command: 'D:\\AnancondaInstallationNew\\python.exe' -c 'import io, os, sys, setuptools, tokenize; sys.argv[0] = '\"'\"'C:\\\\Users\\\\Maaz ali\\\\AppData\\\\Local\\\\Temp\\\\pip-install-g6pihqa1\\\\heatmap_88c4c5f49a4c4de6873e8ac8672b0dbf\\\\setup.py'\"'\"'; __file__='\"'\"'C:\\\\Users\\\\Maaz ali\\\\AppData\\\\Local\\\\Temp\\\\pip-install-g6pihqa1\\\\heatmap_88c4c5f49a4c4de6873e8ac8672b0dbf\\\\setup.py'\"'\"';f = getattr(tokenize, '\"'\"'open'\"'\"', open)(__file__) if os.path.exists(__file__) else io.StringIO('\"'\"'from setuptools import setup; setup()'\"'\"');code = f.read().replace('\"'\"'\\r\\n'\"'\"', '\"'\"'\\n'\"'\"');f.close();exec(compile(code, __file__, '\"'\"'exec'\"'\"'))' egg_info --egg-base 'C:\\Users\\Maaz ali\\AppData\\Local\\Temp\\pip-pip-egg-info-sagrcqil'\n",
      "         cwd: C:\\Users\\Maaz ali\\AppData\\Local\\Temp\\pip-install-g6pihqa1\\heatmap_88c4c5f49a4c4de6873e8ac8672b0dbf\\\n",
      "    Complete output (6 lines):\n",
      "    Traceback (most recent call last):\n",
      "      File \"<string>\", line 1, in <module>\n",
      "      File \"C:\\Users\\Maaz ali\\AppData\\Local\\Temp\\pip-install-g6pihqa1\\heatmap_88c4c5f49a4c4de6873e8ac8672b0dbf\\setup.py\", line 15\n",
      "        print \"On Windows, skipping build_ext.\"\n",
      "              ^\n",
      "    SyntaxError: Missing parentheses in call to 'print'. Did you mean print(\"On Windows, skipping build_ext.\")?\n",
      "    ----------------------------------------\n",
      "WARNING: Discarding https://files.pythonhosted.org/packages/d3/ec/2887c535fbe46f0cde16e4338d34c5e078575b0ff03f120c46d84e33edd1/heatmap-2.2.1.zip#sha256=2f6104a611bbbd1e34016777ff2031f4e6ad7ac22a92850d26ce9e907f9e120b (from https://pypi.org/simple/heatmap/). Command errored out with exit status 1: python setup.py egg_info Check the logs for full command output.\n",
      "    ERROR: Command errored out with exit status 1:\n",
      "     command: 'D:\\AnancondaInstallationNew\\python.exe' -c 'import io, os, sys, setuptools, tokenize; sys.argv[0] = '\"'\"'C:\\\\Users\\\\Maaz ali\\\\AppData\\\\Local\\\\Temp\\\\pip-install-g6pihqa1\\\\heatmap_5ed11b36fc254cffb855834296e687d2\\\\setup.py'\"'\"'; __file__='\"'\"'C:\\\\Users\\\\Maaz ali\\\\AppData\\\\Local\\\\Temp\\\\pip-install-g6pihqa1\\\\heatmap_5ed11b36fc254cffb855834296e687d2\\\\setup.py'\"'\"';f = getattr(tokenize, '\"'\"'open'\"'\"', open)(__file__) if os.path.exists(__file__) else io.StringIO('\"'\"'from setuptools import setup; setup()'\"'\"');code = f.read().replace('\"'\"'\\r\\n'\"'\"', '\"'\"'\\n'\"'\"');f.close();exec(compile(code, __file__, '\"'\"'exec'\"'\"'))' egg_info --egg-base 'C:\\Users\\Maaz ali\\AppData\\Local\\Temp\\pip-pip-egg-info-xx2qzgob'\n",
      "         cwd: C:\\Users\\Maaz ali\\AppData\\Local\\Temp\\pip-install-g6pihqa1\\heatmap_5ed11b36fc254cffb855834296e687d2\\\n",
      "    Complete output (6 lines):\n",
      "    Traceback (most recent call last):\n",
      "      File \"<string>\", line 1, in <module>\n",
      "      File \"C:\\Users\\Maaz ali\\AppData\\Local\\Temp\\pip-install-g6pihqa1\\heatmap_5ed11b36fc254cffb855834296e687d2\\setup.py\", line 15\n",
      "        print \"On Windows, skipping build_ext.\"\n",
      "              ^\n",
      "    SyntaxError: Missing parentheses in call to 'print'. Did you mean print(\"On Windows, skipping build_ext.\")?\n",
      "    ----------------------------------------\n",
      "WARNING: Discarding https://files.pythonhosted.org/packages/a6/17/748bc6aad76a85643daf1be8e63138d33fd0c04775050f23573c18783453/heatmap-2.2.1.tar.gz#sha256=b47f90cf754cf1562ff40173dd1aaf96cbf179fdfb4edac41508da9fffc1a3c4 (from https://pypi.org/simple/heatmap/). Command errored out with exit status 1: python setup.py egg_info Check the logs for full command output.\n",
      "    ERROR: Command errored out with exit status 1:\n",
      "     command: 'D:\\AnancondaInstallationNew\\python.exe' -c 'import io, os, sys, setuptools, tokenize; sys.argv[0] = '\"'\"'C:\\\\Users\\\\Maaz ali\\\\AppData\\\\Local\\\\Temp\\\\pip-install-g6pihqa1\\\\heatmap_3ca3d66ef8e44624b2b5810b105751ea\\\\setup.py'\"'\"'; __file__='\"'\"'C:\\\\Users\\\\Maaz ali\\\\AppData\\\\Local\\\\Temp\\\\pip-install-g6pihqa1\\\\heatmap_3ca3d66ef8e44624b2b5810b105751ea\\\\setup.py'\"'\"';f = getattr(tokenize, '\"'\"'open'\"'\"', open)(__file__) if os.path.exists(__file__) else io.StringIO('\"'\"'from setuptools import setup; setup()'\"'\"');code = f.read().replace('\"'\"'\\r\\n'\"'\"', '\"'\"'\\n'\"'\"');f.close();exec(compile(code, __file__, '\"'\"'exec'\"'\"'))' egg_info --egg-base 'C:\\Users\\Maaz ali\\AppData\\Local\\Temp\\pip-pip-egg-info-fi_72iw0'\n",
      "         cwd: C:\\Users\\Maaz ali\\AppData\\Local\\Temp\\pip-install-g6pihqa1\\heatmap_3ca3d66ef8e44624b2b5810b105751ea\\\n",
      "    Complete output (6 lines):\n",
      "    Traceback (most recent call last):\n",
      "      File \"<string>\", line 1, in <module>\n",
      "      File \"C:\\Users\\Maaz ali\\AppData\\Local\\Temp\\pip-install-g6pihqa1\\heatmap_3ca3d66ef8e44624b2b5810b105751ea\\setup.py\", line 15\n",
      "        print \"On Windows, skipping build_ext.\"\n",
      "              ^\n",
      "    SyntaxError: Missing parentheses in call to 'print'. Did you mean print(\"On Windows, skipping build_ext.\")?\n",
      "    ----------------------------------------\n",
      "WARNING: Discarding https://files.pythonhosted.org/packages/c1/e4/d0659720f4ea5a2db79a4e22681553ce03ea8033e88f37e90a6d37fa5d54/heatmap-2.2.zip#sha256=fc38fd8d0789449f7f6379fcc40175b417db8682c6a5380b57c8368cd0aa0c6a (from https://pypi.org/simple/heatmap/). Command errored out with exit status 1: python setup.py egg_info Check the logs for full command output.\n",
      "    ERROR: Command errored out with exit status 1:\n",
      "     command: 'D:\\AnancondaInstallationNew\\python.exe' -c 'import io, os, sys, setuptools, tokenize; sys.argv[0] = '\"'\"'C:\\\\Users\\\\Maaz ali\\\\AppData\\\\Local\\\\Temp\\\\pip-install-g6pihqa1\\\\heatmap_b32a9b766ea74667b933473bce3ad031\\\\setup.py'\"'\"'; __file__='\"'\"'C:\\\\Users\\\\Maaz ali\\\\AppData\\\\Local\\\\Temp\\\\pip-install-g6pihqa1\\\\heatmap_b32a9b766ea74667b933473bce3ad031\\\\setup.py'\"'\"';f = getattr(tokenize, '\"'\"'open'\"'\"', open)(__file__) if os.path.exists(__file__) else io.StringIO('\"'\"'from setuptools import setup; setup()'\"'\"');code = f.read().replace('\"'\"'\\r\\n'\"'\"', '\"'\"'\\n'\"'\"');f.close();exec(compile(code, __file__, '\"'\"'exec'\"'\"'))' egg_info --egg-base 'C:\\Users\\Maaz ali\\AppData\\Local\\Temp\\pip-pip-egg-info-kqdl0hdp'\n",
      "         cwd: C:\\Users\\Maaz ali\\AppData\\Local\\Temp\\pip-install-g6pihqa1\\heatmap_b32a9b766ea74667b933473bce3ad031\\\n",
      "    Complete output (6 lines):\n",
      "    Traceback (most recent call last):\n",
      "      File \"<string>\", line 1, in <module>\n",
      "      File \"C:\\Users\\Maaz ali\\AppData\\Local\\Temp\\pip-install-g6pihqa1\\heatmap_b32a9b766ea74667b933473bce3ad031\\setup.py\", line 15\n",
      "        print \"On Windows, skipping build_ext.\"\n",
      "              ^\n",
      "    SyntaxError: Missing parentheses in call to 'print'. Did you mean print(\"On Windows, skipping build_ext.\")?\n",
      "    ----------------------------------------\n",
      "WARNING: Discarding https://files.pythonhosted.org/packages/3f/9c/61ca0669c834a9a5a45375449fed0c719943beaf0d41bd2132d14cc0a285/heatmap-2.2.tar.gz#sha256=914d281f2c3456defebc835d061f2cd23b55038c19cad27823d43a59cabee118 (from https://pypi.org/simple/heatmap/). Command errored out with exit status 1: python setup.py egg_info Check the logs for full command output.\n",
      "ERROR: Could not find a version that satisfies the requirement heatmap (from versions: 2.2, 2.2.1)\n",
      "ERROR: No matching distribution found for heatmap\n"
     ]
    }
   ],
   "source": [
    "pip install heatmap\n"
   ]
  },
  {
   "cell_type": "code",
   "execution_count": 3,
   "id": "053d3dba",
   "metadata": {},
   "outputs": [
    {
     "name": "stdout",
     "output_type": "stream",
     "text": [
      "Collecting heatmap\n",
      "  Using cached heatmap-2.2.1.zip (25 kB)"
     ]
    },
    {
     "name": "stderr",
     "output_type": "stream",
     "text": [
      "    ERROR: Command errored out with exit status 1:\n",
      "     command: 'D:\\AnancondaInstallationNew\\python.exe' -c 'import io, os, sys, setuptools, tokenize; sys.argv[0] = '\"'\"'C:\\\\Users\\\\Maaz ali\\\\AppData\\\\Local\\\\Temp\\\\pip-install-vlxmk4wz\\\\heatmap_0318d4b3825444a5a6450376ec36f0d3\\\\setup.py'\"'\"'; __file__='\"'\"'C:\\\\Users\\\\Maaz ali\\\\AppData\\\\Local\\\\Temp\\\\pip-install-vlxmk4wz\\\\heatmap_0318d4b3825444a5a6450376ec36f0d3\\\\setup.py'\"'\"';f = getattr(tokenize, '\"'\"'open'\"'\"', open)(__file__) if os.path.exists(__file__) else io.StringIO('\"'\"'from setuptools import setup; setup()'\"'\"');code = f.read().replace('\"'\"'\\r\\n'\"'\"', '\"'\"'\\n'\"'\"');f.close();exec(compile(code, __file__, '\"'\"'exec'\"'\"'))' egg_info --egg-base 'C:\\Users\\Maaz ali\\AppData\\Local\\Temp\\pip-pip-egg-info-lta7xmaa'\n",
      "         cwd: C:\\Users\\Maaz ali\\AppData\\Local\\Temp\\pip-install-vlxmk4wz\\heatmap_0318d4b3825444a5a6450376ec36f0d3\\\n",
      "    Complete output (6 lines):\n",
      "    Traceback (most recent call last):\n",
      "      File \"<string>\", line 1, in <module>\n",
      "      File \"C:\\Users\\Maaz ali\\AppData\\Local\\Temp\\pip-install-vlxmk4wz\\heatmap_0318d4b3825444a5a6450376ec36f0d3\\setup.py\", line 15\n",
      "        print \"On Windows, skipping build_ext.\"\n",
      "              ^\n",
      "    SyntaxError: Missing parentheses in call to 'print'. Did you mean print(\"On Windows, skipping build_ext.\")?\n",
      "    ----------------------------------------\n",
      "WARNING: Discarding https://files.pythonhosted.org/packages/d3/ec/2887c535fbe46f0cde16e4338d34c5e078575b0ff03f120c46d84e33edd1/heatmap-2.2.1.zip#sha256=2f6104a611bbbd1e34016777ff2031f4e6ad7ac22a92850d26ce9e907f9e120b (from https://pypi.org/simple/heatmap/). Command errored out with exit status 1: python setup.py egg_info Check the logs for full command output.\n",
      "    ERROR: Command errored out with exit status 1:\n",
      "     command: 'D:\\AnancondaInstallationNew\\python.exe' -c 'import io, os, sys, setuptools, tokenize; sys.argv[0] = '\"'\"'C:\\\\Users\\\\Maaz ali\\\\AppData\\\\Local\\\\Temp\\\\pip-install-vlxmk4wz\\\\heatmap_648cb05ba2644cd9b853bff099a9225e\\\\setup.py'\"'\"'; __file__='\"'\"'C:\\\\Users\\\\Maaz ali\\\\AppData\\\\Local\\\\Temp\\\\pip-install-vlxmk4wz\\\\heatmap_648cb05ba2644cd9b853bff099a9225e\\\\setup.py'\"'\"';f = getattr(tokenize, '\"'\"'open'\"'\"', open)(__file__) if os.path.exists(__file__) else io.StringIO('\"'\"'from setuptools import setup; setup()'\"'\"');code = f.read().replace('\"'\"'\\r\\n'\"'\"', '\"'\"'\\n'\"'\"');f.close();exec(compile(code, __file__, '\"'\"'exec'\"'\"'))' egg_info --egg-base 'C:\\Users\\Maaz ali\\AppData\\Local\\Temp\\pip-pip-egg-info-gfumghpn'\n",
      "         cwd: C:\\Users\\Maaz ali\\AppData\\Local\\Temp\\pip-install-vlxmk4wz\\heatmap_648cb05ba2644cd9b853bff099a9225e\\\n",
      "    Complete output (6 lines):\n",
      "    Traceback (most recent call last):\n",
      "      File \"<string>\", line 1, in <module>\n",
      "      File \"C:\\Users\\Maaz ali\\AppData\\Local\\Temp\\pip-install-vlxmk4wz\\heatmap_648cb05ba2644cd9b853bff099a9225e\\setup.py\", line 15\n",
      "        print \"On Windows, skipping build_ext.\"\n",
      "              ^\n",
      "    SyntaxError: Missing parentheses in call to 'print'. Did you mean print(\"On Windows, skipping build_ext.\")?"
     ]
    },
    {
     "name": "stdout",
     "output_type": "stream",
     "text": [
      "\n",
      "  Using cached heatmap-2.2.1.tar.gz (23 kB)\n",
      "  Using cached heatmap-2.2.zip (25 kB)\n",
      "  Using cached heatmap-2.2.tar.gz (23 kB)\n"
     ]
    },
    {
     "name": "stderr",
     "output_type": "stream",
     "text": [
      "\n",
      "    ----------------------------------------\n",
      "WARNING: Discarding https://files.pythonhosted.org/packages/a6/17/748bc6aad76a85643daf1be8e63138d33fd0c04775050f23573c18783453/heatmap-2.2.1.tar.gz#sha256=b47f90cf754cf1562ff40173dd1aaf96cbf179fdfb4edac41508da9fffc1a3c4 (from https://pypi.org/simple/heatmap/). Command errored out with exit status 1: python setup.py egg_info Check the logs for full command output.\n",
      "    ERROR: Command errored out with exit status 1:\n",
      "     command: 'D:\\AnancondaInstallationNew\\python.exe' -c 'import io, os, sys, setuptools, tokenize; sys.argv[0] = '\"'\"'C:\\\\Users\\\\Maaz ali\\\\AppData\\\\Local\\\\Temp\\\\pip-install-vlxmk4wz\\\\heatmap_28114934ae164258bc2b13cbeb8ef172\\\\setup.py'\"'\"'; __file__='\"'\"'C:\\\\Users\\\\Maaz ali\\\\AppData\\\\Local\\\\Temp\\\\pip-install-vlxmk4wz\\\\heatmap_28114934ae164258bc2b13cbeb8ef172\\\\setup.py'\"'\"';f = getattr(tokenize, '\"'\"'open'\"'\"', open)(__file__) if os.path.exists(__file__) else io.StringIO('\"'\"'from setuptools import setup; setup()'\"'\"');code = f.read().replace('\"'\"'\\r\\n'\"'\"', '\"'\"'\\n'\"'\"');f.close();exec(compile(code, __file__, '\"'\"'exec'\"'\"'))' egg_info --egg-base 'C:\\Users\\Maaz ali\\AppData\\Local\\Temp\\pip-pip-egg-info-114rkeu9'\n",
      "         cwd: C:\\Users\\Maaz ali\\AppData\\Local\\Temp\\pip-install-vlxmk4wz\\heatmap_28114934ae164258bc2b13cbeb8ef172\\\n",
      "    Complete output (6 lines):\n",
      "    Traceback (most recent call last):\n",
      "      File \"<string>\", line 1, in <module>\n",
      "      File \"C:\\Users\\Maaz ali\\AppData\\Local\\Temp\\pip-install-vlxmk4wz\\heatmap_28114934ae164258bc2b13cbeb8ef172\\setup.py\", line 15\n",
      "        print \"On Windows, skipping build_ext.\"\n",
      "              ^\n",
      "    SyntaxError: Missing parentheses in call to 'print'. Did you mean print(\"On Windows, skipping build_ext.\")?\n",
      "    ----------------------------------------\n",
      "WARNING: Discarding https://files.pythonhosted.org/packages/c1/e4/d0659720f4ea5a2db79a4e22681553ce03ea8033e88f37e90a6d37fa5d54/heatmap-2.2.zip#sha256=fc38fd8d0789449f7f6379fcc40175b417db8682c6a5380b57c8368cd0aa0c6a (from https://pypi.org/simple/heatmap/). Command errored out with exit status 1: python setup.py egg_info Check the logs for full command output.\n",
      "    ERROR: Command errored out with exit status 1:\n",
      "     command: 'D:\\AnancondaInstallationNew\\python.exe' -c 'import io, os, sys, setuptools, tokenize; sys.argv[0] = '\"'\"'C:\\\\Users\\\\Maaz ali\\\\AppData\\\\Local\\\\Temp\\\\pip-install-vlxmk4wz\\\\heatmap_6fa5c6898048459da0598fa2f79ef6e6\\\\setup.py'\"'\"'; __file__='\"'\"'C:\\\\Users\\\\Maaz ali\\\\AppData\\\\Local\\\\Temp\\\\pip-install-vlxmk4wz\\\\heatmap_6fa5c6898048459da0598fa2f79ef6e6\\\\setup.py'\"'\"';f = getattr(tokenize, '\"'\"'open'\"'\"', open)(__file__) if os.path.exists(__file__) else io.StringIO('\"'\"'from setuptools import setup; setup()'\"'\"');code = f.read().replace('\"'\"'\\r\\n'\"'\"', '\"'\"'\\n'\"'\"');f.close();exec(compile(code, __file__, '\"'\"'exec'\"'\"'))' egg_info --egg-base 'C:\\Users\\Maaz ali\\AppData\\Local\\Temp\\pip-pip-egg-info-t72dho08'\n",
      "         cwd: C:\\Users\\Maaz ali\\AppData\\Local\\Temp\\pip-install-vlxmk4wz\\heatmap_6fa5c6898048459da0598fa2f79ef6e6\\\n",
      "    Complete output (6 lines):\n",
      "    Traceback (most recent call last):\n",
      "      File \"<string>\", line 1, in <module>\n",
      "      File \"C:\\Users\\Maaz ali\\AppData\\Local\\Temp\\pip-install-vlxmk4wz\\heatmap_6fa5c6898048459da0598fa2f79ef6e6\\setup.py\", line 15\n",
      "        print \"On Windows, skipping build_ext.\"\n",
      "              ^\n",
      "    SyntaxError: Missing parentheses in call to 'print'. Did you mean print(\"On Windows, skipping build_ext.\")?\n",
      "    ----------------------------------------\n",
      "WARNING: Discarding https://files.pythonhosted.org/packages/3f/9c/61ca0669c834a9a5a45375449fed0c719943beaf0d41bd2132d14cc0a285/heatmap-2.2.tar.gz#sha256=914d281f2c3456defebc835d061f2cd23b55038c19cad27823d43a59cabee118 (from https://pypi.org/simple/heatmap/). Command errored out with exit status 1: python setup.py egg_info Check the logs for full command output.\n",
      "ERROR: Could not find a version that satisfies the requirement heatmap (from versions: 2.2, 2.2.1)\n",
      "ERROR: No matching distribution found for heatmap\n"
     ]
    }
   ],
   "source": [
    "!pip install heatmap\n",
    "\n"
   ]
  },
  {
   "cell_type": "code",
   "execution_count": 4,
   "id": "fe562233",
   "metadata": {},
   "outputs": [
    {
     "name": "stdout",
     "output_type": "stream",
     "text": [
      "Collecting wordcloudNote: you may need to restart the kernel to use updated packages.\n",
      "  Using cached wordcloud-1.8.2.2-cp39-cp39-win_amd64.whl (153 kB)\n",
      "\n",
      "Requirement already satisfied: pillow in d:\\anancondainstallationnew\\lib\\site-packages (from wordcloud) (9.0.1)\n",
      "Requirement already satisfied: matplotlib in d:\\anancondainstallationnew\\lib\\site-packages (from wordcloud) (3.5.1)\n",
      "Requirement already satisfied: numpy>=1.6.1 in d:\\anancondainstallationnew\\lib\\site-packages (from wordcloud) (1.21.5)\n",
      "Requirement already satisfied: cycler>=0.10 in d:\\anancondainstallationnew\\lib\\site-packages (from matplotlib->wordcloud) (0.11.0)\n",
      "Requirement already satisfied: pyparsing>=2.2.1 in d:\\anancondainstallationnew\\lib\\site-packages (from matplotlib->wordcloud) (3.0.4)\n",
      "Requirement already satisfied: fonttools>=4.22.0 in d:\\anancondainstallationnew\\lib\\site-packages (from matplotlib->wordcloud) (4.25.0)\n",
      "Requirement already satisfied: packaging>=20.0 in d:\\anancondainstallationnew\\lib\\site-packages (from matplotlib->wordcloud) (21.3)\n",
      "Requirement already satisfied: kiwisolver>=1.0.1 in d:\\anancondainstallationnew\\lib\\site-packages (from matplotlib->wordcloud) (1.3.2)\n",
      "Requirement already satisfied: python-dateutil>=2.7 in d:\\anancondainstallationnew\\lib\\site-packages (from matplotlib->wordcloud) (2.8.2)\n",
      "Requirement already satisfied: six>=1.5 in d:\\anancondainstallationnew\\lib\\site-packages (from python-dateutil>=2.7->matplotlib->wordcloud) (1.16.0)\n",
      "Installing collected packages: wordcloud\n",
      "Successfully installed wordcloud-1.8.2.2\n"
     ]
    }
   ],
   "source": [
    "pip install wordcloud"
   ]
  },
  {
   "cell_type": "code",
   "execution_count": 5,
   "id": "fb7f2efe",
   "metadata": {},
   "outputs": [],
   "source": [
    "from wordcloud import WordCloud, STOPWORDS, ImageColorGenerator"
   ]
  },
  {
   "cell_type": "code",
   "execution_count": 6,
   "id": "ea805f5d",
   "metadata": {},
   "outputs": [],
   "source": [
    "from nltk import *"
   ]
  },
  {
   "cell_type": "code",
   "execution_count": 7,
   "id": "a3808ce1",
   "metadata": {},
   "outputs": [],
   "source": [
    "from plotly import express as px"
   ]
  },
  {
   "cell_type": "code",
   "execution_count": null,
   "id": "1ac7d819",
   "metadata": {},
   "outputs": [],
   "source": []
  }
 ],
 "metadata": {
  "kernelspec": {
   "display_name": "Python 3 (ipykernel)",
   "language": "python",
   "name": "python3"
  },
  "language_info": {
   "codemirror_mode": {
    "name": "ipython",
    "version": 3
   },
   "file_extension": ".py",
   "mimetype": "text/x-python",
   "name": "python",
   "nbconvert_exporter": "python",
   "pygments_lexer": "ipython3",
   "version": "3.9.12"
  }
 },
 "nbformat": 4,
 "nbformat_minor": 5
}
